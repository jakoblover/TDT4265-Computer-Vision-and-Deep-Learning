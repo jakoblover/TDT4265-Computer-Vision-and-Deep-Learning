{
 "cells": [
  {
   "cell_type": "markdown",
   "metadata": {
    "slideshow": {
     "slide_type": "slide"
    }
   },
   "source": [
    "# Linear regression with numpy\n",
    "\n",
    "### 1-layer classification by gradient descent"
   ]
  },
  {
   "cell_type": "markdown",
   "metadata": {
    "slideshow": {
     "slide_type": "slide"
    }
   },
   "source": [
    "### The dataset:\n",
    "\n",
    "- A set of reviews of different beers\n",
    "- Has 5 different review ratings between 1-5\n",
    "- Palate, appearance, taste, aroma\n",
    "- And overall\n",
    "\n",
    "Our task: \n",
    "- Is it possible to guess the overall rating from the previous 4 ratings?"
   ]
  },
  {
   "cell_type": "markdown",
   "metadata": {
    "slideshow": {
     "slide_type": "slide"
    }
   },
   "source": [
    "## Defining our neural network\n",
    "\n",
    "![](1_layer_neural_network.png)\n",
    "\n"
   ]
  },
  {
   "cell_type": "markdown",
   "metadata": {
    "slideshow": {
     "slide_type": "fragment"
    }
   },
   "source": [
    "Our 1-layer neural network\n",
    "$$\n",
    "y = g(\\sum_i w_i x_i + b) \n",
    "$$\n",
    "\n",
    "- $b$ is the bias, \n",
    "- $g$ the activation function. In our case: g(a) = a \n",
    "- $w_i$ weight for input $x_i$\n",
    "\n",
    "\n"
   ]
  },
  {
   "cell_type": "markdown",
   "metadata": {
    "slideshow": {
     "slide_type": "slide"
    }
   },
   "source": [
    "### Imports"
   ]
  },
  {
   "cell_type": "code",
   "execution_count": 5,
   "metadata": {
    "collapsed": true,
    "slideshow": {
     "slide_type": "fragment"
    }
   },
   "outputs": [],
   "source": [
    "import numpy as np # Scientific calculation library\n",
    "import json # To read .json file (Not required for assignment 1)\n",
    "import matplotlib.pyplot as plt # Plotting library"
   ]
  },
  {
   "cell_type": "markdown",
   "metadata": {
    "slideshow": {
     "slide_type": "slide"
    }
   },
   "source": [
    "### Read in our data"
   ]
  },
  {
   "cell_type": "code",
   "execution_count": 6,
   "metadata": {
    "collapsed": true,
    "scrolled": false,
    "slideshow": {
     "slide_type": "skip"
    }
   },
   "outputs": [],
   "source": [
    "def read_data(path):\n",
    "  x_keys = [\n",
    "    \"review/palate\",\n",
    "    \"review/appearance\",\n",
    "    \"review/taste\",\n",
    "    \"review/aroma\"\n",
    "  ]\n",
    "  with open(path, \"r\") as f:\n",
    "    all_lines = f.readlines()\n",
    "    X = np.zeros((len(all_lines), len(x_keys)))\n",
    "    Y = np.zeros((len(all_lines), 1))\n",
    "    for idx, line in enumerate(all_lines):\n",
    "      dic = json.loads(line)\n",
    "      x = [dic[key] for key in x_keys]\n",
    "      y = dic[\"review/overall\"]\n",
    "      X[idx] = x\n",
    "      Y[idx] = y\n",
    "  return X, Y"
   ]
  },
  {
   "cell_type": "code",
   "execution_count": 7,
   "metadata": {
    "slideshow": {
     "slide_type": "fragment"
    }
   },
   "outputs": [
    {
     "ename": "FileNotFoundError",
     "evalue": "[Errno 2] No such file or directory: 'beers2.json'",
     "traceback": [
      "\u001b[1;31m---------------------------------------------------------------------------\u001b[0m",
      "\u001b[1;31mFileNotFoundError\u001b[0m                         Traceback (most recent call last)",
      "\u001b[1;32m<ipython-input-7-f8dd236fc7ad>\u001b[0m in \u001b[0;36m<module>\u001b[1;34m\u001b[0m\n\u001b[1;32m----> 1\u001b[1;33m \u001b[0mX_train\u001b[0m\u001b[1;33m,\u001b[0m \u001b[0mY_train\u001b[0m \u001b[1;33m=\u001b[0m \u001b[0mread_data\u001b[0m\u001b[1;33m(\u001b[0m\u001b[1;34m\"beers2.json\"\u001b[0m\u001b[1;33m)\u001b[0m\u001b[1;33m\u001b[0m\u001b[0m\n\u001b[0m\u001b[0;32m      2\u001b[0m \u001b[1;31m# Lets only use the 1,000 first examples for now.\u001b[0m\u001b[1;33m\u001b[0m\u001b[1;33m\u001b[0m\u001b[0m\n\u001b[0;32m      3\u001b[0m \u001b[0mX_train\u001b[0m \u001b[1;33m=\u001b[0m \u001b[0mX_train\u001b[0m\u001b[1;33m[\u001b[0m\u001b[1;33m:\u001b[0m\u001b[1;36m1000\u001b[0m\u001b[1;33m]\u001b[0m\u001b[1;33m\u001b[0m\u001b[0m\n\u001b[0;32m      4\u001b[0m \u001b[0mY_train\u001b[0m \u001b[1;33m=\u001b[0m \u001b[0mY_train\u001b[0m\u001b[1;33m[\u001b[0m\u001b[1;33m:\u001b[0m\u001b[1;36m1000\u001b[0m\u001b[1;33m]\u001b[0m\u001b[1;33m\u001b[0m\u001b[0m\n\u001b[0;32m      5\u001b[0m \u001b[1;33m\u001b[0m\u001b[0m\n",
      "\u001b[1;32m<ipython-input-6-22ca7b92d4e4>\u001b[0m in \u001b[0;36mread_data\u001b[1;34m(path)\u001b[0m\n\u001b[0;32m      6\u001b[0m     \u001b[1;34m\"review/aroma\"\u001b[0m\u001b[1;33m\u001b[0m\u001b[0m\n\u001b[0;32m      7\u001b[0m   ]\n\u001b[1;32m----> 8\u001b[1;33m   \u001b[1;32mwith\u001b[0m \u001b[0mopen\u001b[0m\u001b[1;33m(\u001b[0m\u001b[0mpath\u001b[0m\u001b[1;33m,\u001b[0m \u001b[1;34m\"r\"\u001b[0m\u001b[1;33m)\u001b[0m \u001b[1;32mas\u001b[0m \u001b[0mf\u001b[0m\u001b[1;33m:\u001b[0m\u001b[1;33m\u001b[0m\u001b[0m\n\u001b[0m\u001b[0;32m      9\u001b[0m     \u001b[0mall_lines\u001b[0m \u001b[1;33m=\u001b[0m \u001b[0mf\u001b[0m\u001b[1;33m.\u001b[0m\u001b[0mreadlines\u001b[0m\u001b[1;33m(\u001b[0m\u001b[1;33m)\u001b[0m\u001b[1;33m\u001b[0m\u001b[0m\n\u001b[0;32m     10\u001b[0m     \u001b[0mX\u001b[0m \u001b[1;33m=\u001b[0m \u001b[0mnp\u001b[0m\u001b[1;33m.\u001b[0m\u001b[0mzeros\u001b[0m\u001b[1;33m(\u001b[0m\u001b[1;33m(\u001b[0m\u001b[0mlen\u001b[0m\u001b[1;33m(\u001b[0m\u001b[0mall_lines\u001b[0m\u001b[1;33m)\u001b[0m\u001b[1;33m,\u001b[0m \u001b[0mlen\u001b[0m\u001b[1;33m(\u001b[0m\u001b[0mx_keys\u001b[0m\u001b[1;33m)\u001b[0m\u001b[1;33m)\u001b[0m\u001b[1;33m)\u001b[0m\u001b[1;33m\u001b[0m\u001b[0m\n",
      "\u001b[1;31mFileNotFoundError\u001b[0m: [Errno 2] No such file or directory: 'beers2.json'"
     ],
     "output_type": "error"
    }
   ],
   "source": [
    "X_train, Y_train = read_data(\"beers2.json\")\n",
    "# Lets only use the 1,000 first examples for now.\n",
    "X_train = X_train[:1000]\n",
    "Y_train = Y_train[:1000]\n",
    "\n",
    "print(\"X shape:\", X_train.shape)\n",
    "print(\"X max: {}, X min: {}\".format(X_train.max(), X_train.min()))\n",
    "print(\"Y shape:\", Y_train.shape)\n",
    "print(\"Y max: {}, Y min: {}\".format(Y_train.max(), Y_train.min()))"
   ]
  },
  {
   "cell_type": "markdown",
   "metadata": {
    "slideshow": {
     "slide_type": "slide"
    }
   },
   "source": [
    "### Example data point\n"
   ]
  },
  {
   "cell_type": "code",
   "execution_count": 24,
   "metadata": {
    "slideshow": {
     "slide_type": "fragment"
    }
   },
   "outputs": [
    {
     "name": "stdout",
     "output_type": "stream",
     "text": [
      "X: [4.  4.  3.5 4.  1. ]. Y: [4.]\n"
     ]
    }
   ],
   "source": [
    "print(\"X: {}. Y: {}\".format(X_train[0], Y_train[0]))"
   ]
  },
  {
   "cell_type": "markdown",
   "metadata": {
    "slideshow": {
     "slide_type": "slide"
    }
   },
   "source": [
    "### The bias trick\n",
    "\n",
    "Concatenating a \"1\" to each $x_i$, such that we can ignore the bias. \n",
    "\n",
    "Then, we get:\n",
    "$$\n",
    "y = g(\\sum_i w_i x_i) \n",
    "$$\n",
    "In vector format this is:\n",
    "$$\n",
    "y = w \\cdot x\n",
    "$$ "
   ]
  },
  {
   "cell_type": "code",
   "execution_count": 4,
   "metadata": {
    "slideshow": {
     "slide_type": "fragment"
    }
   },
   "outputs": [
    {
     "name": "stdout",
     "output_type": "stream",
     "text": [
      "X shape with bias: (1000, 5)\n"
     ]
    }
   ],
   "source": [
    "X_train = np.concatenate((X_train, np.ones((X_train.shape[0], 1))), axis=1)\n",
    "print(\"X shape with bias:\", X_train.shape)"
   ]
  },
  {
   "cell_type": "markdown",
   "metadata": {
    "slideshow": {
     "slide_type": "slide"
    }
   },
   "source": [
    "### Split data into train and validation\n",
    "\n",
    "- Use validation set to prevent data-snooping on test set.\n",
    "- Required in real-world scenarios (where we have no test-set!)"
   ]
  },
  {
   "cell_type": "code",
   "execution_count": 5,
   "metadata": {
    "collapsed": true,
    "slideshow": {
     "slide_type": "skip"
    }
   },
   "outputs": [],
   "source": [
    "def train_val_split(X, Y, val_percentage):\n",
    "  \"\"\"\n",
    "    Selects samples from the dataset randomly to be in the validation set. Also, shuffles the train set.\n",
    "    --\n",
    "    X: [N, num_features] numpy vector,\n",
    "    Y: [N, 1] numpy vector\n",
    "    val_percentage: amount of data to put in validation set\n",
    "  \"\"\"\n",
    "  dataset_size = X.shape[0]\n",
    "  idx = np.arange(0, dataset_size)\n",
    "  np.random.shuffle(idx) \n",
    "  \n",
    "  train_size = int(dataset_size*(1-val_percentage))\n",
    "  idx_train = idx[:train_size]\n",
    "  idx_val = idx[train_size:]\n",
    "  X_train, Y_train = X[idx_train], Y[idx_train]\n",
    "  X_val, Y_val = X[idx_val], Y[idx_val]\n",
    "  return X_train, Y_train, X_val, Y_val"
   ]
  },
  {
   "cell_type": "code",
   "execution_count": 6,
   "metadata": {
    "slideshow": {
     "slide_type": "fragment"
    }
   },
   "outputs": [
    {
     "name": "stdout",
     "output_type": "stream",
     "text": [
      "Train shape: X: (900, 5), Y: (900, 1)\n",
      "Validation shape: X: (100, 5), Y: (100, 1)\n"
     ]
    }
   ],
   "source": [
    "# Use 10% for validation\n",
    "X_train, Y_train, X_val, Y_val = train_val_split(X_train, Y_train, 0.1) \n",
    "print(\"Train shape: X: {}, Y: {}\".format(X_train.shape, Y_train.shape))\n",
    "print(\"Validation shape: X: {}, Y: {}\".format(X_val.shape, Y_val.shape))"
   ]
  },
  {
   "cell_type": "markdown",
   "metadata": {
    "slideshow": {
     "slide_type": "slide"
    }
   },
   "source": [
    "## Objective function: Mean squared error\n",
    "\n",
    "In this example, we are performing linear regression with gradient descent\n",
    "\n",
    "Our objective function or error function is:\n",
    "\n",
    "$$\n",
    "E = \\frac{1}{N} \\sum_{n=0}^N (t^n - y^n)^2\n",
    "$$,\n",
    "where: \n",
    "\n",
    "- $N$: Number of data samples\n",
    "- $t^n$: target value (or label) for sample $n$\n",
    "- $y^n$: output of our neural network for sample $n$"
   ]
  },
  {
   "cell_type": "code",
   "execution_count": 7,
   "metadata": {
    "collapsed": true,
    "slideshow": {
     "slide_type": "fragment"
    }
   },
   "outputs": [],
   "source": [
    "def mse_loss(targets, outputs):\n",
    "  assert targets.shape == outputs.shape\n",
    "  squared_error = (targets - outputs) ** 2\n",
    "  mean_squared_error = squared_error.mean()\n",
    "  return mean_squared_error"
   ]
  },
  {
   "cell_type": "markdown",
   "metadata": {
    "slideshow": {
     "slide_type": "slide"
    }
   },
   "source": [
    "### Forward pass:\n",
    "\n",
    "We have\n",
    "$$\n",
    "y = w \\cdot x\n",
    "$$ "
   ]
  },
  {
   "cell_type": "code",
   "execution_count": 8,
   "metadata": {
    "collapsed": true,
    "slideshow": {
     "slide_type": "fragment"
    }
   },
   "outputs": [],
   "source": [
    "def forward_pass(X, w):\n",
    "  return X.dot(w)"
   ]
  },
  {
   "cell_type": "markdown",
   "metadata": {
    "slideshow": {
     "slide_type": "slide"
    }
   },
   "source": [
    "### Mini-batch Gradient descent\n",
    "\n",
    "$$\n",
    "w_{t+1} = w_t - \\alpha \\sum_{n=1}^{N} \\frac{\\partial E^n(w)}{\\partial w}\n",
    "$$\n",
    "\n",
    "First, we need to find $\\frac{\\partial E^n(w)}{\\partial w}$\n"
   ]
  },
  {
   "cell_type": "code",
   "execution_count": 12,
   "metadata": {
    "slideshow": {
     "slide_type": "slide"
    }
   },
   "outputs": [
    {
     "data": {
      "image/png": "[encoded data removed]",
      "text/plain": [
       "<Figure size 864x576 with 1 Axes>"
      ]
     },
     "metadata": {},
     "output_type": "display_data"
    }
   ],
   "source": [
    "plt.show()"
   ]
  },
  {
   "cell_type": "markdown",
   "metadata": {
    "slideshow": {
     "slide_type": "subslide"
    }
   },
   "source": [
    "![text](gradient_descent_derivation.png) \n",
    "\n",
    "\n",
    "$$\n",
    "\\frac{\\partial E^n}{\\partial w_i} = \\frac{\\partial E^n}{\\partial y^n} \\frac{\\partial y^n}{\\partial a^n} \\frac{\\partial a^n }{\\partial w_i}\n",
    "$$\n"
   ]
  },
  {
   "cell_type": "markdown",
   "metadata": {
    "slideshow": {
     "slide_type": "slide"
    }
   },
   "source": [
    "#### Quick reminder:\n",
    "$$\n",
    "E^n =  (t^n - y^n)^2, \\\\\n",
    "y^n = a^n, \\\\\n",
    "a = \\sum_{i} w_i x_i\n",
    "$$\n",
    "$y^n = a^n$ because we are using no activation function, will be different for sigmoid!"
   ]
  },
  {
   "cell_type": "markdown",
   "metadata": {
    "slideshow": {
     "slide_type": "fragment"
    }
   },
   "source": [
    "Then,\n",
    "$$\n",
    "\\frac{\\partial E^n}{\\partial y^n} = - 2 (t^n -y^n), \\\\\n",
    "\\frac{\\partial y^n}{\\partial a^n} = 1, \\\\\n",
    "\\frac{\\partial a^n}{\\partial w_i} = x^n_i\n",
    "$$\n",
    "\n",
    "\n",
    "\n"
   ]
  },
  {
   "cell_type": "markdown",
   "metadata": {
    "slideshow": {
     "slide_type": "subslide"
    }
   },
   "source": [
    "Finally,\n",
    "$$\n",
    "\\frac{\\partial E^n}{\\partial w_i} = \\frac{\\partial E^n}{\\partial y^n} \\frac{\\partial y^n}{\\partial a^n} \\frac{\\partial a^n }{\\partial w_i}\n",
    "$$\n",
    "\n",
    "$$\n",
    "\\frac{\\partial E^n}{\\partial w_i} = - 2(t^n - y^n) x^n_i\n",
    "$$"
   ]
  },
  {
   "cell_type": "code",
   "execution_count": 1,
   "metadata": {
    "collapsed": true,
    "slideshow": {
     "slide_type": "fragment"
    }
   },
   "outputs": [],
   "source": [
    "def gradient_decent(X, outputs, targets, weights, learning_rate):\n",
    "  N = X.shape[0]\n",
    "  # Important to check that your vectors/matrices have the expected shape\n",
    "  assert outputs.shape == targets.shape\n",
    "  for i in range(weights.shape[0]):\n",
    "    dw_i = - 2 * (targets - outputs) * X[:, i:i+1] # \n",
    "    expected_shape = (N, 1)\n",
    "    assert dw_i.shape == expected_shape, \"\\\n",
    "    dw_j shape was: {}. Expected: {}\".format(dw_i.shape, expected_shape)\n",
    "    \n",
    "    dw_i = dw_i.mean(axis=0) # Normalize gradient, take mean over all training examples\n",
    "    weights[i] = weights[i] - learning_rate * dw_i\n",
    "  return weights\n",
    "    "
   ]
  },
  {
   "cell_type": "code",
   "execution_count": 2,
   "metadata": {
    "collapsed": true,
    "slideshow": {
     "slide_type": "skip"
    }
   },
   "outputs": [
    {
     "ename": "NameError",
     "evalue": "name 'X_train' is not defined",
     "traceback": [
      "\u001b[1;31m---------------------------------------------------------------------------\u001b[0m",
      "\u001b[1;31mNameError\u001b[0m                                 Traceback (most recent call last)",
      "\u001b[1;32m<ipython-input-2-6c46b8d5c1dc>\u001b[0m in \u001b[0;36m<module>\u001b[1;34m\u001b[0m\n\u001b[0;32m      3\u001b[0m \u001b[0mVAL_LOSS\u001b[0m \u001b[1;33m=\u001b[0m \u001b[1;33m[\u001b[0m\u001b[1;33m]\u001b[0m\u001b[1;33m\u001b[0m\u001b[0m\n\u001b[0;32m      4\u001b[0m \u001b[0mTRAINING_STEP\u001b[0m \u001b[1;33m=\u001b[0m \u001b[1;33m[\u001b[0m\u001b[1;33m]\u001b[0m\u001b[1;33m\u001b[0m\u001b[0m\n\u001b[1;32m----> 5\u001b[1;33m \u001b[0mnum_features\u001b[0m \u001b[1;33m=\u001b[0m \u001b[0mX_train\u001b[0m\u001b[1;33m.\u001b[0m\u001b[0mshape\u001b[0m\u001b[1;33m[\u001b[0m\u001b[1;36m1\u001b[0m\u001b[1;33m]\u001b[0m\u001b[1;33m\u001b[0m\u001b[0m\n\u001b[0m\u001b[0;32m      6\u001b[0m \u001b[1;33m\u001b[0m\u001b[0m\n\u001b[0;32m      7\u001b[0m \u001b[0mnum_batches_per_epoch\u001b[0m \u001b[1;33m=\u001b[0m \u001b[0mX_train\u001b[0m\u001b[1;33m.\u001b[0m\u001b[0mshape\u001b[0m\u001b[1;33m[\u001b[0m\u001b[1;36m0\u001b[0m\u001b[1;33m]\u001b[0m \u001b[1;33m//\u001b[0m \u001b[0mbatch_size\u001b[0m\u001b[1;33m\u001b[0m\u001b[0m\n",
      "\u001b[1;31mNameError\u001b[0m: name 'X_train' is not defined"
     ],
     "output_type": "error"
    }
   ],
   "source": [
    "# Tracking variables\n",
    "TRAIN_LOSS = []\n",
    "VAL_LOSS = []\n",
    "TRAINING_STEP = []\n",
    "num_features = X_train.shape[1]\n",
    "\n",
    "num_batches_per_epoch = X_train.shape[0] // batch_size\n",
    "check_step = num_batches_per_epoch // 10 # How often we should calculate validation / train loss"
   ]
  },
  {
   "cell_type": "code",
   "execution_count": 3,
   "metadata": {
    "collapsed": true,
    "slideshow": {
     "slide_type": "slide"
    }
   },
   "outputs": [],
   "source": [
    "\n",
    "# Hyperparameters\n",
    "epochs = 200\n",
    "batch_size = 32\n",
    "learning_rate = 0.00001"
   ]
  },
  {
   "cell_type": "code",
   "execution_count": 4,
   "metadata": {
    "collapsed": true,
    "slideshow": {
     "slide_type": "slide"
    }
   },
   "outputs": [
    {
     "ename": "NameError",
     "evalue": "name 'np' is not defined",
     "traceback": [
      "\u001b[1;31m---------------------------------------------------------------------------\u001b[0m",
      "\u001b[1;31mNameError\u001b[0m                                 Traceback (most recent call last)",
      "\u001b[1;32m<ipython-input-4-947917080bad>\u001b[0m in \u001b[0;36m<module>\u001b[1;34m\u001b[0m\n\u001b[1;32m----> 1\u001b[1;33m \u001b[0mw\u001b[0m \u001b[1;33m=\u001b[0m \u001b[0mnp\u001b[0m\u001b[1;33m.\u001b[0m\u001b[0mzeros\u001b[0m\u001b[1;33m(\u001b[0m\u001b[1;33m(\u001b[0m\u001b[0mnum_features\u001b[0m\u001b[1;33m,\u001b[0m \u001b[1;36m1\u001b[0m\u001b[1;33m)\u001b[0m\u001b[1;33m)\u001b[0m\u001b[1;33m\u001b[0m\u001b[0m\n\u001b[0m\u001b[0;32m      2\u001b[0m \u001b[1;33m\u001b[0m\u001b[0m\n\u001b[0;32m      3\u001b[0m \u001b[1;32mdef\u001b[0m \u001b[0mtrain_loop\u001b[0m\u001b[1;33m(\u001b[0m\u001b[0mw\u001b[0m\u001b[1;33m)\u001b[0m\u001b[1;33m:\u001b[0m\u001b[1;33m\u001b[0m\u001b[0m\n\u001b[0;32m      4\u001b[0m   \u001b[0mtraining_it\u001b[0m \u001b[1;33m=\u001b[0m \u001b[1;36m0\u001b[0m\u001b[1;33m\u001b[0m\u001b[0m\n\u001b[0;32m      5\u001b[0m   \u001b[1;32mfor\u001b[0m \u001b[0mepoch\u001b[0m \u001b[1;32min\u001b[0m \u001b[0mrange\u001b[0m\u001b[1;33m(\u001b[0m\u001b[0mepochs\u001b[0m\u001b[1;33m)\u001b[0m\u001b[1;33m:\u001b[0m\u001b[1;33m\u001b[0m\u001b[0m\n",
      "\u001b[1;31mNameError\u001b[0m: name 'np' is not defined"
     ],
     "output_type": "error"
    }
   ],
   "source": [
    "w = np.zeros((num_features, 1))\n",
    "\n",
    "def train_loop(w):\n",
    "  training_it = 0\n",
    "  for epoch in range(epochs):\n",
    "    #shuffle(X_train, Y_train)\n",
    "    for i in range(num_batches_per_epoch):\n",
    "      training_it += 1\n",
    "      X_batch = X_train[i*batch_size:(i+1)*batch_size]\n",
    "      Y_batch = Y_train[i*batch_size:(i+1)*batch_size]\n",
    "\n",
    "      out = forward_pass(X_batch, w)\n",
    "      w = gradient_decent(X_batch, out, Y_batch, w, learning_rate)\n",
    "\n",
    "      if i % check_step == 0:\n",
    "        # Training set\n",
    "        train_out = forward_pass(X_train, w)\n",
    "        train_loss = mse_loss(Y_train, train_out)\n",
    "        TRAIN_LOSS.append(train_loss)\n",
    "        TRAINING_STEP.append(training_it)\n",
    "        \n",
    "        val_out = forward_pass(X_val, w)\n",
    "        val_loss = mse_loss(Y_val, val_out)\n",
    "        VAL_LOSS.append(val_loss)\n",
    "  return w\n",
    "\n",
    "w = train_loop(w)\n",
    "    \n",
    "  "
   ]
  },
  {
   "cell_type": "code",
   "execution_count": 2,
   "metadata": {
    "slideshow": {
     "slide_type": "skip"
    }
   },
   "outputs": [
    {
     "ename": "NameError",
     "evalue": "name 'plt' is not defined",
     "traceback": [
      "\u001b[1;31m---------------------------------------------------------------------------\u001b[0m",
      "\u001b[1;31mNameError\u001b[0m                                 Traceback (most recent call last)",
      "\u001b[1;32m<ipython-input-2-cc493cf55ad2>\u001b[0m in \u001b[0;36m<module>\u001b[1;34m\u001b[0m\n\u001b[1;32m----> 1\u001b[1;33m \u001b[0mplt\u001b[0m\u001b[1;33m.\u001b[0m\u001b[0mfigure\u001b[0m\u001b[1;33m(\u001b[0m\u001b[0mfigsize\u001b[0m\u001b[1;33m=\u001b[0m\u001b[1;33m(\u001b[0m\u001b[1;36m12\u001b[0m\u001b[1;33m,\u001b[0m \u001b[1;36m8\u001b[0m \u001b[1;33m)\u001b[0m\u001b[1;33m)\u001b[0m\u001b[1;33m\u001b[0m\u001b[0m\n\u001b[0m\u001b[0;32m      2\u001b[0m \u001b[0mplt\u001b[0m\u001b[1;33m.\u001b[0m\u001b[0mylim\u001b[0m\u001b[1;33m(\u001b[0m\u001b[1;33m[\u001b[0m\u001b[1;36m0\u001b[0m\u001b[1;33m,\u001b[0m \u001b[1;36m1\u001b[0m\u001b[1;33m]\u001b[0m\u001b[1;33m)\u001b[0m\u001b[1;33m\u001b[0m\u001b[0m\n\u001b[0;32m      3\u001b[0m \u001b[0mplt\u001b[0m\u001b[1;33m.\u001b[0m\u001b[0mxlabel\u001b[0m\u001b[1;33m(\u001b[0m\u001b[1;34m\"Training steps\"\u001b[0m\u001b[1;33m)\u001b[0m\u001b[1;33m\u001b[0m\u001b[0m\n\u001b[0;32m      4\u001b[0m \u001b[0mplt\u001b[0m\u001b[1;33m.\u001b[0m\u001b[0mylabel\u001b[0m\u001b[1;33m(\u001b[0m\u001b[1;34m\"MSE Loss\"\u001b[0m\u001b[1;33m)\u001b[0m\u001b[1;33m\u001b[0m\u001b[0m\n\u001b[0;32m      5\u001b[0m \u001b[0mplt\u001b[0m\u001b[1;33m.\u001b[0m\u001b[0mplot\u001b[0m\u001b[1;33m(\u001b[0m\u001b[0mTRAINING_STEP\u001b[0m\u001b[1;33m,\u001b[0m \u001b[0mTRAIN_LOSS\u001b[0m\u001b[1;33m,\u001b[0m \u001b[0mlabel\u001b[0m\u001b[1;33m=\u001b[0m\u001b[1;34m\"Training loss\"\u001b[0m\u001b[1;33m)\u001b[0m\u001b[1;33m\u001b[0m\u001b[0m\n",
      "\u001b[1;31mNameError\u001b[0m: name 'plt' is not defined"
     ],
     "output_type": "error"
    }
   ],
   "source": [
    "plt.figure(figsize=(12, 8 ))\n",
    "plt.ylim([0, 1])\n",
    "plt.xlabel(\"Training steps\")\n",
    "plt.ylabel(\"MSE Loss\")\n",
    "plt.plot(TRAINING_STEP, TRAIN_LOSS, label=\"Training loss\")\n",
    "plt.plot(TRAINING_STEP, VAL_LOSS, label=\"Validation loss\")\n",
    "plt.legend() # Shows graph labels"
   ]
  },
  {
   "cell_type": "markdown",
   "metadata": {
    "slideshow": {
     "slide_type": "slide"
    }
   },
   "source": [
    "### Final MSE"
   ]
  },
  {
   "cell_type": "code",
   "execution_count": 13,
   "metadata": {
    "scrolled": true,
    "slideshow": {
     "slide_type": "fragment"
    }
   },
   "outputs": [
    {
     "name": "stdout",
     "output_type": "stream",
     "text": [
      "MSE training set: 0.17338991372293203\n",
      "MSE validation set: 0.22108528411064732\n"
     ]
    }
   ],
   "source": [
    "print(\"MSE training set:\", TRAIN_LOSS[-1])\n",
    "print(\"MSE validation set:\", VAL_LOSS[-1])"
   ]
  },
  {
   "cell_type": "markdown",
   "metadata": {
    "slideshow": {
     "slide_type": "slide"
    }
   },
   "source": [
    "### Vectorize it! \n",
    "\n",
    "- Update all weights at the same time\n",
    "- Runs significantly faster\n",
    "- Easier to read?"
   ]
  },
  {
   "cell_type": "code",
   "execution_count": 14,
   "metadata": {
    "collapsed": true,
    "slideshow": {
     "slide_type": "fragment"
    }
   },
   "outputs": [],
   "source": [
    "def gradient_decent(X, outputs, targets, weights, learning_rate):\n",
    "  N = X.shape[0]\n",
    "  # Important to check that your vectors/matrices have the expected shape\n",
    "  assert outputs.shape == targets.shape\n",
    "\n",
    "  dw = X * 2*(targets-outputs)\n",
    "  dw = dw.mean(axis = 0).reshape(-1, 1) # Normalize gradient w.r.t number of training samples\n",
    "  assert dw.shape == weights.shape, \"dw: {}, w: {}\".format(dw.shape, weights.shape)\n",
    "  weights = weights + learning_rate * dw\n",
    "  return weights"
   ]
  },
  {
   "cell_type": "code",
   "execution_count": 19,
   "metadata": {
    "collapsed": true,
    "slideshow": {
     "slide_type": "skip"
    }
   },
   "outputs": [],
   "source": [
    "w = np.zeros((num_features, 1))\n",
    "# Tracking variables\n",
    "TRAIN_LOSS = []\n",
    "VAL_LOSS = []\n",
    "TRAINING_STEP = []\n",
    "\n",
    "num_batches_per_epoch = X_train.shape[0] // batch_size\n",
    "check_step = num_batches_per_epoch // 10 # How often we should calculate validation / train loss\n",
    "\n",
    "w = train_loop(w)\n",
    "    \n",
    "  "
   ]
  },
  {
   "cell_type": "code",
   "execution_count": 20,
   "metadata": {
    "slideshow": {
     "slide_type": "skip"
    }
   },
   "outputs": [
    {
     "data": {
      "text/plain": [
       "<matplotlib.legend.Legend at 0x1090760b8>"
      ]
     },
     "execution_count": 20,
     "metadata": {},
     "output_type": "execute_result"
    }
   ],
   "source": [
    "plt.figure(figsize=(12, 8 ))\n",
    "plt.ylim([0, 2])\n",
    "plt.plot(TRAINING_STEP, TRAIN_LOSS, label=\"Training loss\")\n",
    "plt.plot(TRAINING_STEP, VAL_LOSS, label=\"Validation loss\")\n",
    "plt.legend() # Shows graph labels"
   ]
  },
  {
   "cell_type": "code",
   "execution_count": 21,
   "metadata": {
    "slideshow": {
     "slide_type": "subslide"
    }
   },
   "outputs": [
    {
     "data": {
      "image/png": "[encoded data removed]",
      "text/plain": [
       "<Figure size 864x576 with 1 Axes>"
      ]
     },
     "metadata": {},
     "output_type": "display_data"
    }
   ],
   "source": [
    "plt.show()"
   ]
  },
  {
   "cell_type": "markdown",
   "metadata": {
    "slideshow": {
     "slide_type": "slide"
    }
   },
   "source": [
    "# Questions?"
   ]
  }
 ],
 "metadata": {
  "celltoolbar": "Slideshow",
  "kernelspec": {
   "display_name": "Python py36",
   "language": "python",
   "name": "other-env"
  },
  "language_info": {
   "codemirror_mode": {
    "name": "ipython",
    "version": 3
   },
   "file_extension": ".py",
   "mimetype": "text/x-python",
   "name": "python",
   "nbconvert_exporter": "python",
   "pygments_lexer": "ipython3",
   "version": "3.6.3"
  }
 },
 "nbformat": 4,
 "nbformat_minor": 2
}
