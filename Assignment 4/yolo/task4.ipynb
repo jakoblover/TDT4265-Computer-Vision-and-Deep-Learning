{
 "cells": [
  {
   "cell_type": "markdown",
   "metadata": {},
   "source": [
    "# Assignment 4 - Metrics (IoU, NMS)\n",
    "\n",
    "Welcome to your 4th assignment. You will learn about merging overlapping bounding boxes outputed by an object detection system such as YOLO. Many of the ideas in this notebook are described in the two YOLO papers: Redmon et al., 2016 (https://arxiv.org/abs/1506.02640) and Redmon and Farhadi, 2016 (https://arxiv.org/abs/1612.08242 ). \n",
    "\n",
    "Run the following cell to load the packages and dependencies that are going to be useful for your journey!"
   ]
  },
  {
   "cell_type": "code",
   "execution_count": null,
   "metadata": {
    "collapsed": true
   },
   "outputs": [],
   "source": [
    "import numpy as np\n",
    "from PIL import Image\n",
    "from matplotlib.pyplot import imshow\n",
    "from yolo.drawing_utils import read_classes, draw_boxes, scale_boxes\n",
    "\n",
    "%matplotlib inline"
   ]
  },
  {
   "cell_type": "code",
   "execution_count": null,
   "metadata": {
    "collapsed": true
   },
   "outputs": [],
   "source": [
    "# GRADED FUNCTION: yolo_filter_boxes\n",
    "\n",
    "def yolo_filter_boxes(box_confidence, boxes, box_class_probs, threshold = .6):\n",
    "    \"\"\" Filters YOLO boxes by thresholding on object and class confidence.\n",
    "    \n",
    "    Arguments:\n",
    "        box_confidence -- np.array of shape (19, 19, 5, 1)\n",
    "        boxes -- np.array of shape (19, 19, 5, 4)\n",
    "        box_class_probs -- np.array of shape (19, 19, 5, 80)\n",
    "        threshold -- real value, if [ highest class probability score < threshold],\n",
    "            then get rid of the corresponding box\n",
    "    \n",
    "    Returns:\n",
    "        scores -- np.array of shape (None,), containing the class probability score for selected boxes\n",
    "        boxes -- np.array of shape (None, 4), containing (b_x, b_y, b_h, b_w) coordinates of selected boxes\n",
    "        classes -- np.array of shape (None,), containing the index of the class detected by the selected boxes\n",
    "    \n",
    "    Note: \"None\" is here because you don't know the exact number of selected boxes, as it depends on the threshold. \n",
    "    For example, the actual output size of scores would be (10,) if there are 10 boxes.\n",
    "    \"\"\"\n",
    "    \n",
    "    # Step 1: Compute box scores\n",
    "    scores = box_confidence * box_class_probs\n",
    "    \n",
    "    # Step 2: Find the box_classes thanks to the max box_scores, keep track of the corresponding score\n",
    "    box_classes= np.argmax(scores, axis=-1)\n",
    "    max_box_scores = np.amax(scores, axis=-1)\n",
    "    \n",
    "    # Step 3: Create a filtering mask based on \"box_class_scores\" by using \"threshold\". The mask should have the\n",
    "    # same dimension as box_class_scores, and be True for the boxes you want to keep (with probability >= threshold)\n",
    "    mask = max_box_scores >= threshold\n",
    "    \n",
    "    # Step 4: Apply the mask to scores, boxes and classes\n",
    "    scores = max_box_scores[mask]\n",
    "    boxes = boxes[mask]\n",
    "    classes = box_classes[mask]\n",
    "    \n",
    "    return scores, boxes, classes"
   ]
  },
  {
   "cell_type": "code",
   "execution_count": null,
   "metadata": {},
   "outputs": [
    {
     "name": "stdout",
     "output_type": "stream",
     "text": [
      "scores[2] = 54.01492488333001\nboxes[2] = [-1.92142838 -2.04944615 -4.78776134 11.48229538]\nclasses[2] = 8\nscores.shape = (1790,)\nboxes.shape = (1790, 4)\nclasses.shape = (1790,)\n"
     ]
    }
   ],
   "source": [
    "#DO NOT EDIT THIS CODE\n",
    "np.random.seed(0)\n",
    "box_confidence = np.random.normal(size=(19, 19, 5, 1), loc=1, scale=4)\n",
    "boxes = np.random.normal(size=(19, 19, 5, 4), loc=1, scale=4)\n",
    "box_class_probs = np.random.normal(size=(19, 19, 5, 80), loc=1, scale=4)\n",
    "scores, boxes, classes = yolo_filter_boxes(box_confidence, boxes, box_class_probs, threshold = 0.5)\n",
    "print(\"scores[2] = \" + str(scores[2]))\n",
    "print(\"boxes[2] = \" + str(boxes[2]))\n",
    "print(\"classes[2] = \" + str(classes[2]))\n",
    "print(\"scores.shape = \" + str(scores.shape))\n",
    "print(\"boxes.shape = \" + str(boxes.shape))\n",
    "print(\"classes.shape = \" + str(classes.shape))"
   ]
  },
  {
   "cell_type": "markdown",
   "metadata": {},
   "source": [
    "**Expected Output**:\n",
    "\n",
    "| Variable          | Value       |\n",
    "| ----------------- | ----------- |\n",
    "| **scores[2]**     | 54.0149     |\n",
    "| **boxes[2]**      | [-1.92142838 -2.04944615 -4.78776134 11.48229538] |\n",
    "| **classes[2]**    | 8           |\n",
    "| **scores.shape**  | (1790,)        |\n",
    "| **boxes.shape**   | (1790, 4)      |\n",
    "| **classes.shape** | (1790,)       |"
   ]
  },
  {
   "cell_type": "markdown",
   "metadata": {},
   "source": [
    "### 2.3 - Non-max suppression ###\n",
    "\n",
    "Even after filtering by thresholding over the classes scores, you still end up a lot of overlapping boxes. A second filter for selecting the right boxes is called non-maximum suppression (NMS). "
   ]
  },
  {
   "cell_type": "markdown",
   "metadata": {
    "collapsed": true
   },
   "source": [
    "<img src=\"nb_images/non-max-suppression.png\" style=\"width:500px;height:400;\">\n",
    "<caption><center> <b> Figure 7 </b>: In this example, the model has predicted 3 cars, but it's actually 3 predictions of the same car. Running non-max suppression (NMS) will select only the most accurate (highest probabiliy) one of the 3 boxes. <br> </center></caption>\n"
   ]
  },
  {
   "cell_type": "markdown",
   "metadata": {},
   "source": [
    "Non-max suppression uses the very important function called **\"Intersection over Union\"**, or IoU.\n",
    "<img src=\"nb_images/iou.png\" style=\"width:500px;height:400;\">\n",
    "<caption><center> <b> Figure 8 </b>: Definition of \"Intersection over Union\". <br> </center></caption>\n",
    "\n"
   ]
  },
  {
   "cell_type": "code",
   "execution_count": 10,
   "metadata": {
    "collapsed": true
   },
   "outputs": [],
   "source": [
    "def iou(box1, box2):\n",
    "    \"\"\"Implement the intersection over union (IoU) between box1 and box2\n",
    "    \n",
    "    Arguments:\n",
    "    box1 -- first box, list object with coordinates (x1, y1, x2, y2)\n",
    "    box2 -- second box, list object with coordinates (x1, y1, x2, y2)\n",
    "    \"\"\"\n",
    "\n",
    "    # Calculate the (y1, x1, y2, x2) coordinates of the intersection of box1 and box2. Calculate its Area.\n",
    "    x_1 = max(box1[0], box2[0])\n",
    "    y_1 = max(box1[1], box2[1])\n",
    "    x_2 = min(box1[2], box2[2])\n",
    "    y_2 = min(box1[3], box2[3])\n",
    "\n",
    "    # Calculate area of intersectional rectangle, and the prediction and ground truth boxes\n",
    "    area_intersection = max(0, x_2 - x_1) * max(0, y_2 - y_1)\n",
    "    area_pred = (box1[2] - box1[0]) * (box1[3] - box1[1])\n",
    "    area_gt = (box2[2] - box2[0]) * (box2[3] - box2[1])\n",
    "\n",
    "    # Divide area of intersection by intersection of union\n",
    "    iou = area_intersection / float(area_pred + area_gt - area_intersection)\n",
    "\n",
    "    return iou"
   ]
  },
  {
   "cell_type": "code",
   "execution_count": 11,
   "metadata": {},
   "outputs": [
    {
     "name": "stdout",
     "output_type": "stream",
     "text": [
      "iou = 0.14285714285714285\n"
     ]
    }
   ],
   "source": [
    "#DO NOT EDIT THIS CODE\n",
    "box1 = (2, 1, 4, 3)\n",
    "box2 = (1, 2, 3, 4) \n",
    "print(\"iou = \" + str(iou(box1, box2)))"
   ]
  },
  {
   "cell_type": "markdown",
   "metadata": {},
   "source": [
    "**Expected Output**:\n",
    "\n",
    "| Variable          | Value               |\n",
    "| ----------------- | ------------------- |\n",
    "| **iou**           | 0.14285714285714285 |\n"
   ]
  },
  {
   "cell_type": "markdown",
   "metadata": {},
   "source": [
    "You are now ready to implement non-max suppression. The key steps are: \n",
    "1. Select the box that has the highest score.\n",
    "2. Compute its overlap with all other boxes, and remove boxes that overlap it more than `iou_threshold`.\n",
    "3. Go back to step 1 and iterate until there's no more boxes with a lower score than the current selected box.\n",
    "\n",
    "This will remove all boxes that have a large overlap with the selected boxes. Only the \"best\" boxes remain.\n",
    "\n",
    "**Exercise**: Implement yolo_non_max_suppression() using your iou function.\n",
    "- Hint: use [index arrays](https://docs.scipy.org/doc/numpy-1.13.0/user/basics.indexing.html#index-arrays)"
   ]
  },
  {
   "cell_type": "code",
   "execution_count": null,
   "metadata": {
    "collapsed": true
   },
   "outputs": [],
   "source": [
    "def yolo_non_max_suppression(scores, boxes, classes, max_boxes = 10, iou_threshold = 0.5):\n",
    "    \"\"\"\n",
    "    Applies Non-max suppression (NMS) to set of boxes\n",
    "    \n",
    "    Arguments:\n",
    "        scores -- np.array of shape (None,), output of yolo_filter_boxes()\n",
    "        boxes -- np.array of shape (None, 4), output of yolo_filter_boxes() \n",
    "            that have been scaled to the image size (see later)\n",
    "        classes -- np.array of shape (None,), output of yolo_filter_boxes()\n",
    "        max_boxes -- integer, maximum number of predicted boxes you'd like\n",
    "        iou_threshold -- real value, \"intersection over union\" threshold used for NMS filtering\n",
    "    \n",
    "    Returns:\n",
    "    scores -- tensor of shape (None, ), predicted score for each box\n",
    "    boxes -- tensor of shape (None, 4), predicted box coordinates\n",
    "    classes -- tensor of shape (None, ), predicted class for each box\n",
    "    \n",
    "    Note: The \"None\" dimension of the output tensors has obviously to be less than max_boxes. \n",
    "    Note also that this function will transpose the shapes of scores, boxes, classes. \n",
    "    This is made for convenience.\n",
    "    \"\"\"\n",
    "        \n",
    "    nms_indices = []\n",
    "    \n",
    "    iou_over_threshold = True\n",
    "    while(True):\n",
    "        # Use iou() to get the list of indices corresponding to boxes you keep\n",
    "        max_score_idx = np.argmax(scores)\n",
    "        max_score_box = boxes[max_score_idx]\n",
    "        \n",
    "        for idx,box in enumerate(boxes):\n",
    "            if idx != max_score_idx:\n",
    "                if iou(max_score_box,box) < iou_threshold:\n",
    "                    nms_indices.append(idx)\n",
    "                else:\n",
    "                    iou_over_threshold = False\n",
    "    \n",
    "    # Use index arrays to select only nms_indices from scores, boxes and classes\n",
    "    \n",
    "    scores = scores[np.array(nms_indices)]\n",
    "    boxes = boxes[np.array(nms_indices)]\n",
    "    classes = classes[np.array(nms_indices)]\n",
    "    \n",
    "    return scores, boxes, classes"
   ]
  },
  {
   "cell_type": "code",
   "execution_count": null,
   "metadata": {},
   "outputs": [],
   "source": [
    "#DO NOT EDIT THIS CODE\n",
    "np.random.seed(0)\n",
    "scores = np.random.normal(size=(54,), loc=1, scale=4)\n",
    "boxes = np.random.normal(size=(54,4), loc=1, scale=4)\n",
    "classes = np.random.normal(size=(54,), loc=1, scale=4)\n",
    "scores, boxes, classes = yolo_non_max_suppression(scores, boxes, classes)\n",
    "print(\"scores[2] = \" + str(scores[2]))\n",
    "print(\"boxes[2] = \" + str(boxes[2]))\n",
    "print(\"classes[2] = \" + str(classes[2]))\n",
    "print(\"scores.shape = \" + str(scores.shape))\n",
    "print(\"boxes.shape = \" + str(boxes.shape))\n",
    "print(\"classes.shape = \" + str(classes.shape))"
   ]
  },
  {
   "cell_type": "markdown",
   "metadata": {},
   "source": [
    "**Expected Output**:\n",
    "\n",
    "| Variable          | Value       |\n",
    "| ----------------- | ----------- |\n",
    "| **scores[2]**     | 8.8031      |\n",
    "| **boxes[2]**      | [ 1.62602615  1.92872414 -1.38926428  0.04831308] |\n",
    "| **classes[2]**    | -1.9227     |\n",
    "| **scores.shape**  | (10,)       |\n",
    "| **boxes.shape**   | (10, 4)     |\n",
    "| **classes.shape** | (10,)       |"
   ]
  },
  {
   "cell_type": "markdown",
   "metadata": {},
   "source": [
    "### 2.4 Wrapping up the filtering\n",
    "\n",
    "It's time to implement a function taking the output of the deep CNN (the 19x19x5x85 dimensional encoding) and filtering through all the boxes using the functions you've just implemented. \n",
    "\n",
    "**Exercise**: Implement `yolo_eval()` which takes the output of the YOLO encoding and filters the boxes using score threshold and NMS. There's just one last implementational detail you have to know. YOLO works with shrinked down bounding boxes and you can scale them back using the following functions (which we have provided): \n",
    "```python\n",
    "boxes = scale_boxes(boxes, image_shape)\n",
    "```\n",
    "YOLO's network was trained to run on 608x608 images. If you are testing this data on a different size image--for example, the car detection dataset had 720x1280 images--this step rescales the boxes so that they can be plotted on top of the original 720x1280 image.  "
   ]
  },
  {
   "cell_type": "code",
   "execution_count": null,
   "metadata": {
    "collapsed": true
   },
   "outputs": [],
   "source": [
    "def yolo_eval(yolo_outputs, image_shape = (720., 1280.), max_boxes=10, score_threshold=.6, iou_threshold=.5):\n",
    "    \"\"\"\n",
    "    Converts the output of YOLO encoding (a lot of boxes) to your predicted boxes along with their scores, box coordinates and classes.\n",
    "    \n",
    "    Arguments:\n",
    "        yolo_outputs -- output of the encoding model (for image_shape of (608, 608, 3)), contains 4 np.array:\n",
    "                        box_confidence: tensor of shape (None, 19, 19, 5, 1)\n",
    "                        boxes: tensor of shape (None, 19, 19, 5, 4)\n",
    "                        box_class_probs: tensor of shape (None, 19, 19, 5, 80)\n",
    "        image_shape -- np.array of shape (2,) containing the input shape, in this notebook we use \n",
    "            (608., 608.) (has to be float32 dtype)\n",
    "        max_boxes -- integer, maximum number of predicted boxes you'd like\n",
    "        score_threshold -- real value, if [ highest class probability score < threshold], \n",
    "            then get rid of the corresponding box\n",
    "        iou_threshold -- real value, \"intersection over union\" threshold used for NMS filtering\n",
    "    \n",
    "    Returns:\n",
    "        scores -- np.array of shape (None, ), predicted score for each box\n",
    "        boxes -- np.array of shape (None, 4), predicted box coordinates\n",
    "        classes -- np.array of shape (None,), predicted class for each box\n",
    "    \"\"\"\n",
    "    \n",
    "    ### START CODE HERE ### \n",
    "    \n",
    "    # Retrieve outputs of the YOLO model (≈1 line)\n",
    "    \n",
    "        \n",
    "    # Use one of the functions you've implemented to perform Score-filtering with a threshold of score_threshold (≈1 line)\n",
    "    \n",
    "    # Scale boxes back to original image shape.\n",
    "\n",
    "    # Use one of the functions you've implemented to perform Non-max suppression with a threshold of iou_threshold (≈1 line)\n",
    "    \n",
    "    ### END CODE HERE ###\n",
    "    \n",
    "    return scores, boxes, classes"
   ]
  },
  {
   "cell_type": "code",
   "execution_count": null,
   "metadata": {},
   "outputs": [],
   "source": [
    "#DO NOT EDIT THIS CODE\n",
    "np.random.seed(0)\n",
    "yolo_outputs = (np.random.normal(size=(19, 19, 5, 1,), loc=1, scale=4),\n",
    "                np.random.normal(size=(19, 19, 5, 4,), loc=1, scale=4),\n",
    "                np.random.normal(size=(19, 19, 5, 80,), loc=1, scale=4))\n",
    "scores, boxes, classes = yolo_eval(yolo_outputs)\n",
    "print(\"scores[2] = \" + str(scores[2]))\n",
    "print(\"boxes[2] = \" + str(boxes[2]))\n",
    "print(\"classes[2] = \" + str(classes[2]))\n",
    "print(\"scores.shape = \" + str(scores.shape))\n",
    "print(\"boxes.shape = \" + str(boxes.shape))\n",
    "print(\"classes.shape = \" + str(classes.shape))"
   ]
  },
  {
   "cell_type": "markdown",
   "metadata": {
    "collapsed": true
   },
   "source": [
    "**Expected Output**:\n",
    "\n",
    "| Variable          | Value       |\n",
    "| ----------------- | ----------- |\n",
    "| **scores[2]**     | 143.33886713132935     |\n",
    "| **boxes[2]**      | [ 1366.07098516  7609.25352373  1133.27145691 -9957.2042546 ] |\n",
    "| **classes[2]**    | 79          |\n",
    "| **scores.shape**  | (10,)       |\n",
    "| **boxes.shape**   | (10, 4)     |\n",
    "| **classes.shape** | (10,)       |"
   ]
  },
  {
   "cell_type": "markdown",
   "metadata": {},
   "source": [
    "\n",
    "**Summary for YOLO**:\n",
    "- Input image (608, 608, 3)\n",
    "- The input image goes through a CNN, resulting in a (19,19,5,85) dimensional output. \n",
    "- After flattening the last two dimensions, the output is a volume of shape (19, 19, 425):\n",
    "    - Each cell in a 19x19 grid over the input image gives 425 numbers. \n",
    "    - 425 = 5 x 85 because each cell contains predictions for 5 boxes, corresponding to 5 anchor boxes, as seen in lecture. \n",
    "    - 85 = 5 + 80 where 5 is because $(p_c, b_x, b_y, b_h, b_w)$ has 5 numbers, and and 80 is the number of classes we'd like to detect\n",
    "- You then select only few boxes based on:\n",
    "    - Score-thresholding: throw away boxes that have detected a class with a score less than the threshold\n",
    "    - Non-max suppression: Compute the Intersection over Union and avoid selecting overlapping boxes\n",
    "- This gives you YOLO's final output. "
   ]
  },
  {
   "cell_type": "markdown",
   "metadata": {},
   "source": [
    "## 3 - Test on YOLO output"
   ]
  },
  {
   "cell_type": "markdown",
   "metadata": {},
   "source": [
    "In this part, you are going to run your thresholding and non-maximum-suppression algorithms on the output of a YOLO forward-pass already computed for your convenience."
   ]
  },
  {
   "cell_type": "code",
   "execution_count": null,
   "metadata": {
    "collapsed": true
   },
   "outputs": [],
   "source": [
    "# DO NOT CHANGE\n",
    "image = Image.open(\"test.jpg\")\n",
    "box_confidence = np.load(\"box_confidence.npy\")\n",
    "boxes = np.load(\"boxes.npy\")\n",
    "box_class_probs = np.load(\"box_class_probs.npy\")\n",
    "yolo_outputs = (box_confidence, boxes, box_class_probs)"
   ]
  },
  {
   "cell_type": "markdown",
   "metadata": {},
   "source": [
    "### 3.1 - Defining classes and image shape."
   ]
  },
  {
   "cell_type": "markdown",
   "metadata": {},
   "source": [
    "Recall that we are trying to detect 80 classes. We have gathered the information about the 80 classes in \"coco_classes.txt\". Let's load these quantities into the model by running the next cell. \n",
    "\n",
    "The car detection dataset has 720x1280 images, which we've pre-processed into 608x608 images. "
   ]
  },
  {
   "cell_type": "code",
   "execution_count": null,
   "metadata": {
    "collapsed": true
   },
   "outputs": [],
   "source": [
    "# DO NOT CHANGE\n",
    "image_shape = (720., 1280.)"
   ]
  },
  {
   "cell_type": "markdown",
   "metadata": {},
   "source": [
    "### 3.2 - Filtering boxes\n",
    "\n",
    "`yolo_outputs` gives you all the predicted boxes of `yolo_model` in the correct format. You're now ready to perform filtering and select only the best boxes. Lets now call `yolo_eval`, which you had previously implemented, to do this. "
   ]
  },
  {
   "cell_type": "code",
   "execution_count": null,
   "metadata": {
    "collapsed": true
   },
   "outputs": [],
   "source": [
    "#DO NOT EDIT THIS CODE\n",
    "out_scores, out_boxes, out_classes = yolo_eval(yolo_outputs, image_shape)"
   ]
  },
  {
   "cell_type": "markdown",
   "metadata": {},
   "source": [
    "### 3.3 - Show the output of your algorithm\n",
    "\n",
    "Run the following cell to verify that your code is correct."
   ]
  },
  {
   "cell_type": "code",
   "execution_count": null,
   "metadata": {},
   "outputs": [],
   "source": [
    "#DO NOT EDIT THIS CODE\n",
    "# Print predictions info\n",
    "print('Found {} boxes'.format(len(out_boxes)))\n",
    "# Draw bounding boxes on the image\n",
    "draw_boxes(image, out_scores, out_boxes, out_classes)\n",
    "# Display the results in the notebook\n",
    "imshow(image)\n",
    "import matplotlib.pyplot as plt"
   ]
  },
  {
   "cell_type": "markdown",
   "metadata": {},
   "source": [
    "**Expected Output**:\n",
    "\n",
    "**Found 7 boxes**\n",
    "\n",
    "| Object            | Confidence| position| size  |\n",
    "| ----------------- | ----------|---------|-------- |\n",
    "| **car**           | 0.60| (925, 285) |(1045, 374) |\n",
    "| **car**           | 0.66 |(706, 279) |(786, 350)  |\n",
    "| **bus**           | 0.67| (5, 266)| (220, 407)    |\n",
    "| **car**           | 0.70 |(947, 324) |(1280, 705) |\n",
    "| **car**           | 0.74 |(159, 303) |(346, 440)  |\n",
    "| **car**           | 0.80 |(761, 282) |(942, 412)  |\n",
    "| **car**           | 0.89 |(367, 300) |(745, 648)  |"
   ]
  },
  {
   "cell_type": "markdown",
   "metadata": {
    "collapsed": true
   },
   "source": [
    "**What you should remember**:\n",
    "- YOLO is a state-of-the-art object detection model that is fast and accurate\n",
    "- It runs an input image through a CNN which outputs a 19x19x5x85 dimensional volume. \n",
    "- The encoding can be seen as a grid where each of the 19x19 cells contains information about 5 boxes.\n",
    "- You filter through all the boxes using non-max suppression. Specifically: \n",
    "    - Score thresholding on the probability of detecting a class to keep only accurate (high probability) boxes\n",
    "    - Intersection over Union (IoU) thresholding to eliminate overlapping boxes\n",
    "- Because running a YOLO model is non-trivial and requires many libraries and files, we used previously executed model results in this exercise. If you wish, you can also try running the YOLO model with your own image."
   ]
  }
 ],
 "metadata": {
  "coursera": {
   "course_slug": "convolutional-neural-networks",
   "graded_item_id": "OMdut",
   "launcher_item_id": "bbBOL"
  },
  "kernelspec": {
   "display_name": "Python 3",
   "language": "python",
   "name": "python3"
  },
  "language_info": {
   "codemirror_mode": {
    "name": "ipython",
    "version": 3
   },
   "file_extension": ".py",
   "mimetype": "text/x-python",
   "name": "python",
   "nbconvert_exporter": "python",
   "pygments_lexer": "ipython3",
   "version": "3.6.3"
  }
 },
 "nbformat": 4,
 "nbformat_minor": 2
}
